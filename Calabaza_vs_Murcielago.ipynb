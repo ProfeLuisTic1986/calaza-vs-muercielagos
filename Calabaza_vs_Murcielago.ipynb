{
  "nbformat": 4,
  "nbformat_minor": 0,
  "metadata": {
    "colab": {
      "provenance": [],
      "authorship_tag": "ABX9TyO79E56aR0tcVafFUBkD40e",
      "include_colab_link": true
    },
    "kernelspec": {
      "name": "python3",
      "display_name": "Python 3"
    },
    "language_info": {
      "name": "python"
    }
  },
  "cells": [
    {
      "cell_type": "markdown",
      "metadata": {
        "id": "view-in-github",
        "colab_type": "text"
      },
      "source": [
        "<a href=\"https://colab.research.google.com/github/ProfeLuisTic1986/calaza-vs-muercielagos/blob/main/Calabaza_vs_Murcielago.ipynb\" target=\"_parent\"><img src=\"https://colab.research.google.com/assets/colab-badge.svg\" alt=\"Open In Colab\"/></a>"
      ]
    },
    {
      "cell_type": "markdown",
      "source": [
        "**Parte 1**"
      ],
      "metadata": {
        "id": "DOQNr_40Cibq"
      }
    },
    {
      "cell_type": "code",
      "execution_count": null,
      "metadata": {
        "id": "TJOg-bIACdY6"
      },
      "outputs": [],
      "source": [
        "import pygame, sys\n",
        "pygame.init()\n",
        "\n",
        "ANCHO_ALTO = (480, 640)\n",
        "NOCHE = (20, 20, 35)\n",
        "LUNA = (230, 230, 200)\n",
        "NARANJA = (255, 140, 0)\n",
        "NEGRO = (0, 0, 0)\n",
        "TAM_CALABAZA = (40, 30)\n",
        "\n",
        "pantalla = pygame.display.set_mode(ANCHO_ALTO)\n",
        "reloj = pygame.time.Clock()\n",
        "\n",
        "def dibujar_calabaza(pos):\n",
        "    pygame.draw.ellipse(pantalla, NARANJA, (pos[0], pos[1], TAM_CALABAZA[0], TAM_CALABAZA[1]))\n",
        "    pygame.draw.rect(pantalla, (20,120,20), (pos[0]+TAM_CALABAZA[0]//2-4, pos[1]-6, 8, 8))\n",
        "\n",
        "pos_inicial = (ANCHO_ALTO[0]//2 - TAM_CALABAZA[0]//2, ANCHO_ALTO[1]//2 - TAM_CALABAZA[1]//2)\n",
        "\n",
        "while True:\n",
        "    for e in pygame.event.get():\n",
        "        if e.type == pygame.QUIT: pygame.quit(); sys.exit()\n",
        "    pantalla.fill(NOCHE)\n",
        "    pygame.draw.circle(pantalla, LUNA, (60, 60), 35)\n",
        "    dibujar_calabaza(pos_inicial)\n",
        "    pygame.display.flip(); reloj.tick(60)"
      ]
    },
    {
      "cell_type": "markdown",
      "source": [
        "**Parte 2**"
      ],
      "metadata": {
        "id": "9lhy7eIaCsW2"
      }
    },
    {
      "cell_type": "code",
      "source": [
        "import pygame, sys\n",
        "pygame.init()\n",
        "\n",
        "ANCHO_ALTO = (480, 640)\n",
        "NOCHE = (20, 20, 35)\n",
        "LUNA = (230, 230, 200)\n",
        "NARANJA = (255, 140, 0)\n",
        "NEGRO = (0, 0, 0)\n",
        "TAM_CALABAZA = (40, 30)\n",
        "\n",
        "pantalla = pygame.display.set_mode(ANCHO_ALTO)\n",
        "reloj = pygame.time.Clock()\n",
        "\n",
        "jugador_pos = [ANCHO_ALTO[0]//2 - TAM_CALABAZA[0]//2, ANCHO_ALTO[1] - 80]\n",
        "\n",
        "def dibujar_calabaza(pos):\n",
        "    pygame.draw.ellipse(pantalla, NARANJA, (pos[0], pos[1], TAM_CALABAZA[0], TAM_CALABAZA[1]))\n",
        "    pygame.draw.rect(pantalla, (20,120,20), (pos[0]+TAM_CALABAZA[0]//2-4, pos[1]-6, 8, 8))\n",
        "\n",
        "while True:\n",
        "    for e in pygame.event.get():\n",
        "        if e.type == pygame.QUIT: pygame.quit(); sys.exit()\n",
        "    keys = pygame.key.get_pressed()\n",
        "    if keys[pygame.K_LEFT]:  jugador_pos[0] -= 5\n",
        "    if keys[pygame.K_RIGHT]: jugador_pos[0] += 5\n",
        "    jugador_pos[0] = max(0, min(ANCHO_ALTO[0]-TAM_CALABAZA[0], jugador_pos[0]))\n",
        "\n",
        "    pantalla.fill(NOCHE)\n",
        "    pygame.draw.circle(pantalla, LUNA, (60, 60), 35)\n",
        "    dibujar_calabaza(jugador_pos)\n",
        "    pygame.display.flip(); reloj.tick(60)"
      ],
      "metadata": {
        "id": "EKDtFv8dCuQu"
      },
      "execution_count": null,
      "outputs": []
    },
    {
      "cell_type": "markdown",
      "source": [
        "**Parte 3**"
      ],
      "metadata": {
        "id": "yigaQtrNCxMP"
      }
    },
    {
      "cell_type": "code",
      "source": [
        "import pygame, random, sys\n",
        "pygame.init()\n",
        "\n",
        "ANCHO_ALTO = (480, 640)\n",
        "NOCHE = (20, 20, 35)\n",
        "LUNA = (230, 230, 200)\n",
        "NARANJA = (255, 140, 0)\n",
        "NEGRO = (0, 0, 0)\n",
        "BLANCO = (255, 255, 255)\n",
        "MORADO = (120, 70, 200)\n",
        "TAM_CALABAZA = (40, 30)\n",
        "TAM_MURCIELAGO = (30, 20)\n",
        "\n",
        "pantalla = pygame.display.set_mode(ANCHO_ALTO)\n",
        "reloj = pygame.time.Clock()\n",
        "font = pygame.font.SysFont(None, 28)\n",
        "\n",
        "jugador_pos = [ANCHO_ALTO[0]//2 - TAM_CALABAZA[0]//2, ANCHO_ALTO[1] - 80]\n",
        "murcielagos = [[random.randint(0, ANCHO_ALTO[0]-TAM_MURCIELAGO[0]), -TAM_MURCIELAGO[1], 4] for _ in range(3)]\n",
        "puntaje, game_over = 0, False\n",
        "\n",
        "def dibujar_calabaza(pos):\n",
        "    pygame.draw.ellipse(pantalla, NARANJA, (pos[0], pos[1], TAM_CALABAZA[0], TAM_CALABAZA[1]))\n",
        "    pygame.draw.rect(pantalla, (20,120,20), (pos[0]+TAM_CALABAZA[0]//2-4, pos[1]-6, 8, 8))\n",
        "\n",
        "def dibujar_murcielago(pos):\n",
        "    x, y = pos; w, h = TAM_MURCIELAGO\n",
        "    pygame.draw.ellipse(pantalla, NEGRO, (x, y, w, h))\n",
        "    pygame.draw.polygon(pantalla, NEGRO, [(x, y+h//2),(x-10, y-5),(x-5, y+h)])\n",
        "    pygame.draw.polygon(pantalla, NEGRO, [(x+w, y+h//2),(x+w+10, y-5),(x+w+5, y+h)])\n",
        "    pygame.draw.circle(pantalla, MORADO, (x+w//2-4, y+h//2-4), 2)\n",
        "    pygame.draw.circle(pantalla, MORADO, (x+w//2+4, y+h//2-4), 2)\n",
        "\n",
        "while True:\n",
        "    for e in pygame.event.get():\n",
        "        if e.type == pygame.QUIT: pygame.quit(); sys.exit()\n",
        "        if e.type == pygame.KEYDOWN and game_over and e.key == pygame.K_r:\n",
        "            jugador_pos[:] = [ANCHO_ALTO[0]//2 - TAM_CALABAZA[0]//2, ANCHO_ALTO[1] - 80]\n",
        "            murcielagos[:] = [[random.randint(0, ANCHO_ALTO[0]-TAM_MURCIELAGO[0]), -TAM_MURCIELAGO[1], 4] for _ in range(3)]\n",
        "            puntaje, game_over = 0, False\n",
        "\n",
        "    if not game_over:\n",
        "        keys = pygame.key.get_pressed()\n",
        "        if keys[pygame.K_LEFT]:  jugador_pos[0] -= 5\n",
        "        if keys[pygame.K_RIGHT]: jugador_pos[0] += 5\n",
        "        jugador_pos[0] = max(0, min(ANCHO_ALTO[0]-TAM_CALABAZA[0], jugador_pos[0]))\n",
        "        for m in murcielagos:\n",
        "            m[1] += m[2]\n",
        "            if m[1] > ANCHO_ALTO[1]:\n",
        "                m[0] = random.randint(0, ANCHO_ALTO[0]-TAM_MURCIELAGO[0]); m[1] = -TAM_MURCIELAGO[1]; puntaje += 1\n",
        "            if pygame.Rect(jugador_pos[0], jugador_pos[1], *TAM_CALABAZA).colliderect(pygame.Rect(m[0], m[1], *TAM_MURCIELAGO)):\n",
        "                game_over = True\n",
        "\n",
        "    pantalla.fill(NOCHE)\n",
        "    pygame.draw.circle(pantalla, LUNA, (60, 60), 35)\n",
        "    dibujar_calabaza(jugador_pos)\n",
        "    for m in murcielagos: dibujar_murcielago((m[0], m[1]))\n",
        "    txt = \"¡Te atraparon! R=reintentar\" if game_over else f\"Puntos: {puntaje}\"\n",
        "    pantalla.blit(font.render(txt, True, BLANCO), (10, 10))\n",
        "    pygame.display.flip(); reloj.tick(60)"
      ],
      "metadata": {
        "id": "aDN8-AjTC0Gs"
      },
      "execution_count": null,
      "outputs": []
    }
  ]
}